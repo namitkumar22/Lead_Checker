{
  "cells": [
    {
      "cell_type": "markdown",
      "metadata": {
        "id": "xmWJD47-rxVu"
      },
      "source": [
        "## Problem I identified\n",
        "\n",
        "I realized that the BBB rating is not available for many of the scraped leads. This creates confusion about whether a lead is good or not. To address this issue, I thought of implementing a solution that leverages AI to predict lead quality like whether is it a good lead or not (Yes or No) by analyzing their digital footprint."
      ]
    },
    {
      "cell_type": "markdown",
      "metadata": {
        "id": "Y68RErY0sT6C"
      },
      "source": [
        "## Scraping Digital Footprints"
      ]
    },
    {
      "cell_type": "markdown",
      "metadata": {
        "id": "M7c9iXUh1Pnw"
      },
      "source": [
        "This script scrapes text from a company's homepage, about, careers, blog, and news pages."
      ]
    },
    {
      "cell_type": "code",
      "execution_count": 12,
      "metadata": {
        "id": "L_LCqddysRlD"
      },
      "outputs": [],
      "source": [
        "import requests\n",
        "from bs4 import BeautifulSoup\n",
        "from urllib.parse import urljoin\n",
        "import time\n",
        "\n",
        "HEADERS = {\n",
        "    \"User-Agent\": \"Mozilla/5.0 (Windows NT 10.0; Win64; x64) \"\n",
        "                  \"AppleWebKit/537.36 (KHTML, like Gecko) \"\n",
        "                  \"Chrome/113.0.0.0 Safari/537.36\"\n",
        "}\n",
        "\n",
        "PAGES = [\"\", \"about\", \"careers\", \"blog\", \"news\"]\n",
        "\n",
        "def get_page_text(url):\n",
        "    try:\n",
        "        res = requests.get(url, headers=HEADERS, timeout=5)\n",
        "        soup = BeautifulSoup(res.text, \"html.parser\")\n",
        "        text_blocks = soup.find_all(\"p\")\n",
        "        return ' '.join(p.get_text(strip=True) for p in text_blocks)\n",
        "    except Exception as e:\n",
        "        print(f\"❌ Error fetching {url}: {e}\")\n",
        "        return \"\"\n",
        "\n",
        "def get_digital_footprint(domain):\n",
        "    base_url = f\"https://{domain.strip('/')}\"\n",
        "    all_text = []\n",
        "\n",
        "    for path in PAGES:\n",
        "        full_url = urljoin(base_url + \"/\", path)\n",
        "        print(f\"🌐 Scraping: {full_url}\")\n",
        "        page_text = get_page_text(full_url)\n",
        "        if len(page_text) > 100:\n",
        "            all_text.append(page_text)\n",
        "        time.sleep(1.5)\n",
        "\n",
        "    return '\\n'.join(all_text)\n"
      ]
    },
    {
      "cell_type": "markdown",
      "metadata": {
        "id": "4Ap5kA85t35T"
      },
      "source": [
        "## Initializing a pre trained model for analysis of footprints"
      ]
    },
    {
      "cell_type": "markdown",
      "metadata": {
        "id": "OSKfu9jp1ucu"
      },
      "source": [
        "Using groq to initialize a llm to identify whether a lead is good or not. It is fast and accurate because of NPU Technology"
      ]
    },
    {
      "cell_type": "code",
      "execution_count": null,
      "metadata": {
        "colab": {
          "base_uri": "https://localhost:8080/"
        },
        "id": "q2dP07Oiw2f6",
        "outputId": "e1307c1f-1d46-42e1-f5e1-76622bc45bb4"
      },
      "outputs": [],
      "source": [
        "!pip install groq"
      ]
    },
    {
      "cell_type": "code",
      "execution_count": 26,
      "metadata": {
        "id": "6kT6XboDwn7D"
      },
      "outputs": [],
      "source": [
        "from groq import Groq\n",
        "\n",
        "def check_lead(sentence, industry):\n",
        "    client = Groq(api_key=\"YOUR_API_KEY\")\n",
        "\n",
        "    completion = client.chat.completions.create(\n",
        "        model=\"llama-3.3-70b-versatile\",\n",
        "        messages=[\n",
        "            {\n",
        "                \"role\": \"system\",\n",
        "                \"content\": (\n",
        "                    \"You are an expert B2B lead qualification agent. Your task is to evaluate short text descriptions \"\n",
        "                    \"and determine if they indicate a strong sales opportunity for a business-to-business product or service.\\n\\n\"\n",
        "                    \"Only respond with one word:\\n\"\n",
        "                    \"- \\\"Yes\\\" → if it is a good lead (indicates interest, intent, or relevance)\\n\"\n",
        "                    \"- \\\"No\\\" → if it is not a good lead (irrelevant, non-commercial, or lacks buying intent)\\n\\n\"\n",
        "                    \"Base your judgment on factors like business growth signals, interest in technology, hiring, expansion, \"\n",
        "                    \"partnerships, or purchasing behavior.\\n\\n\"\n",
        "                    \"Do not explain or justify your answer.\"\n",
        "                    f\"** Also make sure to add relevancy according to the their industry : {industry}**\"\n",
        "                )\n",
        "            },\n",
        "            {\n",
        "                \"role\": \"user\",\n",
        "                \"content\": sentence\n",
        "            }\n",
        "        ],\n",
        "        temperature=0.2,\n",
        "        max_tokens=1,\n",
        "        top_p=1,\n",
        "        stream=False\n",
        "    )\n",
        "\n",
        "    response = completion.choices[0].message.content.strip()\n",
        "    return response\n"
      ]
    },
    {
      "cell_type": "markdown",
      "metadata": {
        "id": "KLxttptzwpE4"
      },
      "source": [
        "## Testing with demo company names"
      ]
    },
    {
      "cell_type": "markdown",
      "metadata": {
        "id": "eMuXrHlQ2Deo"
      },
      "source": [
        "Testing with demo company names which can be replaced by the ones extracted by the SaaSquatch scraper tool and making the results in a DataFrame which can be easily merged with the table containing all the scraping results from the tool."
      ]
    },
    {
      "cell_type": "code",
      "execution_count": null,
      "metadata": {
        "colab": {
          "base_uri": "https://localhost:8080/",
          "height": 690
        },
        "id": "bymY9dOBtCb-",
        "outputId": "701dec04-f332-45e7-ee81-f0de832b2699"
      },
      "outputs": [],
      "source": [
        "import pandas as pd\n",
        "\n",
        "industry = \"Software development\"\n",
        "companies = [\"freecodecamp.org\", \"oracle.com\", \"python.org\"]\n",
        "\n",
        "df = pd.DataFrame(columns=[\"company\", \"Good Lead ?\"])\n",
        "\n",
        "for company in companies:\n",
        "    print(f\"\\n🔍 Fetching digital footprint for: {company}\")\n",
        "    footprint = get_digital_footprint(company)\n",
        "\n",
        "    if footprint:\n",
        "        print(f\"\\n✅ Extracted {len(footprint)} characters from {company}\")\n",
        "        print(\"=\"*60)\n",
        "        lead_type = check_lead(footprint, industry)  # this should return \"Yes\" or \"No\"\n",
        "    else:\n",
        "        print(\"⚠️ No usable text found.\\n\")\n",
        "        lead_type = \"No data\"\n",
        "\n",
        "    df.loc[len(df)] = [company, lead_type]\n",
        "\n",
        "df"
      ]
    }
  ],
  "metadata": {
    "colab": {
      "provenance": []
    },
    "kernelspec": {
      "display_name": "Python 3",
      "name": "python3"
    },
    "language_info": {
      "name": "python"
    }
  },
  "nbformat": 4,
  "nbformat_minor": 0
}
